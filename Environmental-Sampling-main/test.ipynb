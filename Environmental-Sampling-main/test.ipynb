{
 "cells": [
  {
   "cell_type": "code",
   "execution_count": null,
   "metadata": {},
   "outputs": [
    {
     "name": "stderr",
     "output_type": "stream",
     "text": [
      "/opt/conda/lib/python3.12/site-packages/tqdm/auto.py:21: TqdmWarning: IProgress not found. Please update jupyter and ipywidgets. See https://ipywidgets.readthedocs.io/en/stable/user_install.html\n",
      "  from .autonotebook import tqdm as notebook_tqdm\n"
     ]
    }
   ],
   "source": [
    "import pandas as pd\n",
    "import numpy as np\n",
    "from sentence_transformers import SentenceTransformer\n",
    "import urllib.request\n",
    "import zipfile\n",
    "import os\n",
    "from sklearn.metrics.pairwise import cosine_similarity"
   ]
  },
  {
   "cell_type": "code",
   "execution_count": null,
   "metadata": {},
   "outputs": [
    {
     "name": "stdout",
     "output_type": "stream",
     "text": [
      "Downloading MovieLens 100k dataset...\n",
      "Extracting files...\n",
      "Download complete!\n"
     ]
    }
   ],
   "source": [
    "# Implemented because I am on a laptop without EasyRec\n",
    "def download_movielens():\n",
    "    url = \"https://files.grouplens.org/datasets/movielens/ml-100k.zip\"\n",
    "    zip_path = \"ml-100k.zip\"\n",
    "    \n",
    "    if not os.path.exists(\"ml-100k\"):\n",
    "        print(\"Downloading MovieLens 100k dataset...\")\n",
    "        urllib.request.urlretrieve(url, zip_path)\n",
    "        \n",
    "        print(\"Extracting files...\")\n",
    "        with zipfile.ZipFile(zip_path, 'r') as zip_ref:\n",
    "            zip_ref.extractall()\n",
    "            \n",
    "        # Remove zip file\n",
    "        os.remove(zip_path)\n",
    "        print(\"Download complete!\")\n",
    "    else:\n",
    "        print(\"Dataset already exists!\")\n",
    "\n",
    "download_movielens()"
   ]
  },
  {
   "cell_type": "code",
   "execution_count": 6,
   "metadata": {},
   "outputs": [
    {
     "name": "stdout",
     "output_type": "stream",
     "text": [
      "Number of movies: 1682\n"
     ]
    },
    {
     "data": {
      "text/html": [
       "<div>\n",
       "<style scoped>\n",
       "    .dataframe tbody tr th:only-of-type {\n",
       "        vertical-align: middle;\n",
       "    }\n",
       "\n",
       "    .dataframe tbody tr th {\n",
       "        vertical-align: top;\n",
       "    }\n",
       "\n",
       "    .dataframe thead th {\n",
       "        text-align: right;\n",
       "    }\n",
       "</style>\n",
       "<table border=\"1\" class=\"dataframe\">\n",
       "  <thead>\n",
       "    <tr style=\"text-align: right;\">\n",
       "      <th></th>\n",
       "      <th>movie_id</th>\n",
       "      <th>title</th>\n",
       "    </tr>\n",
       "  </thead>\n",
       "  <tbody>\n",
       "    <tr>\n",
       "      <th>0</th>\n",
       "      <td>1</td>\n",
       "      <td>Toy Story (1995)</td>\n",
       "    </tr>\n",
       "    <tr>\n",
       "      <th>1</th>\n",
       "      <td>2</td>\n",
       "      <td>GoldenEye (1995)</td>\n",
       "    </tr>\n",
       "    <tr>\n",
       "      <th>2</th>\n",
       "      <td>3</td>\n",
       "      <td>Four Rooms (1995)</td>\n",
       "    </tr>\n",
       "  </tbody>\n",
       "</table>\n",
       "</div>"
      ],
      "text/plain": [
       "   movie_id              title\n",
       "0         1   Toy Story (1995)\n",
       "1         2   GoldenEye (1995)\n",
       "2         3  Four Rooms (1995)"
      ]
     },
     "execution_count": 6,
     "metadata": {},
     "output_type": "execute_result"
    }
   ],
   "source": [
    "# Load the movies data\n",
    "movies_df = pd.read_csv('ml-100k/u.item', sep='|', encoding='latin-1', \n",
    "                        names=['movie_id', 'title', 'release_date', 'video_release_date',\n",
    "                              'IMDb_URL', 'unknown', 'Action', 'Adventure', 'Animation',\n",
    "                              'Children', 'Comedy', 'Crime', 'Documentary', 'Drama', 'Fantasy',\n",
    "                              'Film-Noir', 'Horror', 'Musical', 'Mystery', 'Romance', 'Sci-Fi',\n",
    "                              'Thriller', 'War', 'Western'])\n",
    "\n",
    "# Display first few rows\n",
    "print(\"Number of movies:\", len(movies_df))\n",
    "movies_df[['movie_id', 'title']].head(3)"
   ]
  },
  {
   "cell_type": "code",
   "execution_count": 4,
   "metadata": {},
   "outputs": [
    {
     "name": "stderr",
     "output_type": "stream",
     "text": [
      "/opt/conda/lib/python3.12/site-packages/huggingface_hub/file_download.py:797: FutureWarning: `resume_download` is deprecated and will be removed in version 1.0.0. Downloads always resume when possible. If you want to force a new download, use `force_download=True`.\n",
      "  warnings.warn(\n",
      "/opt/conda/lib/python3.12/site-packages/huggingface_hub/file_download.py:797: FutureWarning: `resume_download` is deprecated and will be removed in version 1.0.0. Downloads always resume when possible. If you want to force a new download, use `force_download=True`.\n",
      "  warnings.warn(\n"
     ]
    },
    {
     "name": "stdout",
     "output_type": "stream",
     "text": [
      "Computing embeddings...\n"
     ]
    },
    {
     "name": "stderr",
     "output_type": "stream",
     "text": [
      "Batches: 100%|██████████| 53/53 [00:00<00:00, 71.97it/s]"
     ]
    },
    {
     "name": "stdout",
     "output_type": "stream",
     "text": [
      "\n",
      "Shape of embeddings: (1682, 384)\n",
      "\n",
      "First movie title and its embedding shape:\n",
      "Title: Toy Story (1995)\n",
      "Embedding shape: 384\n"
     ]
    },
    {
     "name": "stderr",
     "output_type": "stream",
     "text": [
      "\n"
     ]
    }
   ],
   "source": [
    "# Load the sentence transformer model\n",
    "model = SentenceTransformer('all-MiniLM-L6-v2')\n",
    "\n",
    "# Get all movie titles\n",
    "titles = movies_df['title'].tolist()\n",
    "\n",
    "# Compute embeddings\n",
    "print(\"Computing embeddings...\")\n",
    "embeddings = model.encode(titles, show_progress_bar=True)\n",
    "\n",
    "# Create a DataFrame with movie IDs, titles, and their embeddings\n",
    "embeddings_df = pd.DataFrame({\n",
    "    'movie_id': movies_df['movie_id'],\n",
    "    'title': movies_df['title'],\n",
    "    'embedding': list(embeddings)\n",
    "})\n",
    "\n",
    "print(\"\\nShape of embeddings:\", embeddings.shape)\n",
    "print(\"\\nFirst movie title and its embedding shape:\")\n",
    "print(f\"Title: {embeddings_df['title'].iloc[0]}\")\n",
    "print(f\"Embedding shape: {len(embeddings_df['embedding'].iloc[0])}\")"
   ]
  },
  {
   "cell_type": "code",
   "execution_count": null,
   "metadata": {},
   "outputs": [
    {
     "name": "stdout",
     "output_type": "stream",
     "text": [
      "Movies similar to 'Little Princess, A (1995)':\n",
      "Princess Caraboo (1994): 0.702\n",
      "Swan Princess, The (1994): 0.683\n",
      "Little Princess, The (1939): 0.674\n",
      "Little Women (1994): 0.613\n",
      "Princess Bride, The (1987): 0.612\n"
     ]
    }
   ],
   "source": [
    "#Find similar movies using cosine similarity\n",
    "\n",
    "def find_similar_movies(title, n=5):\n",
    "    # Get the embedding for the input title\n",
    "    movie_idx = embeddings_df[embeddings_df['title'] == title].index[0]\n",
    "    movie_embedding = embeddings[movie_idx]\n",
    "    \n",
    "    # Compute similarities\n",
    "    similarities = cosine_similarity([movie_embedding], embeddings)[0]\n",
    "    \n",
    "    # Get top N similar movies\n",
    "    similar_indices = similarities.argsort()[-n-1:][::-1][1:]\n",
    "    \n",
    "    return [(embeddings_df['title'].iloc[idx], similarities[idx]) \n",
    "            for idx in similar_indices]\n",
    "\n",
    "# Example: Find movies similar to Little Princess\n",
    "movie_title = \"Little Princess, A (1995)\"\n",
    "similar_movies = find_similar_movies(movie_title)\n",
    "\n",
    "print(f\"Movies similar to '{movie_title}':\")\n",
    "for title, score in similar_movies:\n",
    "    print(f\"{title}: {score:.3f}\")"
   ]
  }
 ],
 "metadata": {
  "kernelspec": {
   "display_name": "Python 3",
   "language": "python",
   "name": "python3"
  },
  "language_info": {
   "codemirror_mode": {
    "name": "ipython",
    "version": 3
   },
   "file_extension": ".py",
   "mimetype": "text/x-python",
   "name": "python",
   "nbconvert_exporter": "python",
   "pygments_lexer": "ipython3",
   "version": "3.12.6"
  }
 },
 "nbformat": 4,
 "nbformat_minor": 4
}
